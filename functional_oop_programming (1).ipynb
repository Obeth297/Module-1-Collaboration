{
 "cells": [
  {
   "cell_type": "code",
   "execution_count": null,
   "id": "e001ceea-9fea-4e01-9513-f4793d392612",
   "metadata": {},
   "outputs": [],
   "source": [
    "class Solution:\n",
    "    # Function to sort an array of 0s, 1s, and 2s\n",
    "    def sort012(self, arr):\n",
    "        return arr.sort()"
   ]
  },
  {
   "cell_type": "code",
   "execution_count": null,
   "id": "ba9555cc-7f13-4104-9121-7a368571d6cf",
   "metadata": {},
   "outputs": [],
   "source": [
    "class Solution:\n",
    "    def binarysearch(self, arr, k):\n",
    "        left, right = 0, len(arr) - 1\n",
    "        \n",
    "        while left <= right:\n",
    "            mid = (left + right) // 2\n",
    "            \n",
    "            if arr[mid] == k:\n",
    "                return mid  # Found k at index mid.\n",
    "            elif arr[mid] < k:\n",
    "                left = mid + 1  # Search the right half.\n",
    "            else:\n",
    "                right = mid - 1  # Search the left half.\n",
    "        \n",
    "        return -1  # k not found in the array."
   ]
  }
 ],
 "metadata": {
  "kernelspec": {
   "display_name": "Python 3 (ipykernel)",
   "language": "python",
   "name": "python3"
  },
  "language_info": {
   "codemirror_mode": {
    "name": "ipython",
    "version": 3
   },
   "file_extension": ".py",
   "mimetype": "text/x-python",
   "name": "python",
   "nbconvert_exporter": "python",
   "pygments_lexer": "ipython3",
   "version": "3.12.4"
  }
 },
 "nbformat": 4,
 "nbformat_minor": 5
}
