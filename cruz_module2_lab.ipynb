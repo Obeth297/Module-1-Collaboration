{
 "cells": [
  {
   "cell_type": "code",
   "execution_count": 9,
   "id": "0b06f630-ff78-4d24-b96e-a8ee3d48e5bf",
   "metadata": {},
   "outputs": [
    {
     "name": "stdin",
     "output_type": "stream",
     "text": [
      "\n",
      "Enter the student's last name or type ZZZ to quit:  cruz\n",
      "Enter the student's first name:  obeth\n",
      "Enter the student's GPA:  4.3\n"
     ]
    },
    {
     "name": "stdout",
     "output_type": "stream",
     "text": [
      "Obeth Cruz has made the Dean's List!\n"
     ]
    },
    {
     "name": "stdin",
     "output_type": "stream",
     "text": [
      "\n",
      "Enter the student's last name or type ZZZ to quit:  zzz\n"
     ]
    },
    {
     "name": "stdout",
     "output_type": "stream",
     "text": [
      "Quitting process, goodbye.\n"
     ]
    }
   ],
   "source": [
    "# Author: Obeth Cruz\n",
    "# File Name: cruz_module2_lab.ipynb\n",
    "# Description: This app accepts student names and GPAs to determine if they qualify for the Dean's List or the Honor Roll.\n",
    "\n",
    "while True:\n",
    "    # Input the student's last name.\n",
    "    last_name = input(\"\\nEnter the student's last name or type ZZZ to quit: \")\n",
    "\n",
    "    # Checks for zzz to quit\n",
    "    if last_name.lower() == 'zzz':\n",
    "        print(\"Quitting process, goodbye.\")\n",
    "        break\n",
    "\n",
    "    # Input the student's first name.\n",
    "    first_name = input(\"Enter the student's first name: \")\n",
    "\n",
    "    # Creat the student's full name\n",
    "    full_name = f\"{first_name.title()} {last_name.title()}\"\n",
    "\n",
    "    # Input GPA. \n",
    "    gpa = float(input(\"Enter the student's GPA: \"))\n",
    "\n",
    "    # Determines if the student qualifies for the Dean List or Honor Roll.\n",
    "    if gpa >= 3.5:\n",
    "        print(f\"{full_name} has made the Dean's List!\")\n",
    "    elif gpa >= 3.25:\n",
    "        print(f\"{full_name} has made the Honor Roll!\")\n",
    "    else:\n",
    "        print(f\"{full_name} does not qualify for the Dean's List or Honor Roll.\")\n"
   ]
  },
  {
   "cell_type": "code",
   "execution_count": null,
   "id": "69165aee-8981-4453-bac3-e49719b2e54d",
   "metadata": {},
   "outputs": [],
   "source": []
  }
 ],
 "metadata": {
  "kernelspec": {
   "display_name": "Python 3 (ipykernel)",
   "language": "python",
   "name": "python3"
  },
  "language_info": {
   "codemirror_mode": {
    "name": "ipython",
    "version": 3
   },
   "file_extension": ".py",
   "mimetype": "text/x-python",
   "name": "python",
   "nbconvert_exporter": "python",
   "pygments_lexer": "ipython3",
   "version": "3.12.4"
  }
 },
 "nbformat": 4,
 "nbformat_minor": 5
}
