{
 "cells": [
  {
   "cell_type": "code",
   "execution_count": null,
   "id": "0b06f630-ff78-4d24-b96e-a8ee3d48e5bf",
   "metadata": {},
   "outputs": [
    {
     "name": "stdin",
     "output_type": "stream",
     "text": [
      "Enter the student's last name or type ZZZ to quit:  cruz\n",
      "Enter the student's first name:  obeth\n",
      "Enter the student's GPA:  3.2\n"
     ]
    },
    {
     "name": "stdout",
     "output_type": "stream",
     "text": [
      "Obeth Cruz does not qualify for the Dean's List or Honor Roll.\n"
     ]
    },
    {
     "name": "stdin",
     "output_type": "stream",
     "text": [
      "Enter the student's last name or type ZZZ to quit:  lilly\n",
      "Enter the student's first name:  chase\n",
      "Enter the student's GPA:  5.2\n"
     ]
    },
    {
     "name": "stdout",
     "output_type": "stream",
     "text": [
      "Chase Lilly has made the Dean's List!\n"
     ]
    },
    {
     "name": "stdin",
     "output_type": "stream",
     "text": [
      "Enter the student's last name or type ZZZ to quit:  kailen \n",
      "Enter the student's first name:  barnes\n",
      "Enter the student's GPA:  3.3\n"
     ]
    },
    {
     "name": "stdout",
     "output_type": "stream",
     "text": [
      "Barnes Kailen  has made the Honor Roll!\n"
     ]
    }
   ],
   "source": [
    "# Author: Obeth Cruz\n",
    "# File Name: student_gpa_qualifications.py\n",
    "# Description: This app accepts student names and GPAs to determine if they qualify for the Dean's List or the Honor Roll.\n",
    "\n",
    "while True:\n",
    "    last_name = input(\"Enter the student's last name or type ZZZ to quit: \")\n",
    "\n",
    "    if last_name.lower() == 'zzz':\n",
    "        print(\"Quitting process, goodbye.\")\n",
    "        break\n",
    "\n",
    "    first_name = input(\"Enter the student's first name: \")\n",
    "\n",
    "    full_name = f\"{first_name.title()} {last_name.title()}\"\n",
    "\n",
    "    gpa = float(input(\"Enter the student's GPA: \"))\n",
    "\n",
    "    if gpa >= 3.5:\n",
    "        print(f\"{full_name} has made the Dean's List!\")\n",
    "    elif gpa >= 3.25:\n",
    "        print(f\"{full_name} has made the Honor Roll!\")\n",
    "    else:\n",
    "        print(f\"{full_name} does not qualify for the Dean's List or Honor Roll.\")\n"
   ]
  },
  {
   "cell_type": "code",
   "execution_count": null,
   "id": "69165aee-8981-4453-bac3-e49719b2e54d",
   "metadata": {},
   "outputs": [],
   "source": []
  }
 ],
 "metadata": {
  "kernelspec": {
   "display_name": "Python 3 (ipykernel)",
   "language": "python",
   "name": "python3"
  },
  "language_info": {
   "codemirror_mode": {
    "name": "ipython",
    "version": 3
   },
   "file_extension": ".py",
   "mimetype": "text/x-python",
   "name": "python",
   "nbconvert_exporter": "python",
   "pygments_lexer": "ipython3",
   "version": "3.12.4"
  }
 },
 "nbformat": 4,
 "nbformat_minor": 5
}
